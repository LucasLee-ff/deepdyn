{
 "cells": [
  {
   "cell_type": "code",
   "execution_count": 1,
   "metadata": {},
   "outputs": [],
   "source": [
    "import os\n",
    "sep = os.sep\n",
    "import numpy as np"
   ]
  },
  {
   "cell_type": "code",
   "execution_count": 2,
   "metadata": {},
   "outputs": [],
   "source": [
    "file = '02_test.tif'"
   ]
  },
  {
   "cell_type": "code",
   "execution_count": 17,
   "metadata": {},
   "outputs": [],
   "source": [
    "CONF = {\n",
    "    'Dirs': {\n",
    "        'image': 'data' + sep + 'DRIVE' + sep + 'images',\n",
    "        'mask': 'data' + sep + 'DRIVE' + sep + 'mask',\n",
    "        'truth': 'data' + sep + 'DRIVE' + sep + 'manual',\n",
    "        'logs': 'LOGS_2019' + sep + 'DRIVE',\n",
    "        'splits_json': 'data' + sep + 'DRIVE' + sep + 'splits'\n",
    "    },\n",
    "\n",
    "    'Funcs': {\n",
    "        'truth_getter': lambda file_name: file_name.split('_')[0] + '_manual1.gif',\n",
    "        'mask_getter': lambda file_name: file_name.split('_')[0] + '_mask.gif',\n",
    "    }\n",
    "}"
   ]
  },
  {
   "cell_type": "code",
   "execution_count": 18,
   "metadata": {},
   "outputs": [],
   "source": [
    "from PIL import Image as IMG\n",
    "from utils import img_utils as iu\n",
    "from utils.img_utils import Image\n",
    "from sklearn.metrics import f1_score\n",
    "from scipy.ndimage.morphology import distance_transform_edt"
   ]
  },
  {
   "cell_type": "code",
   "execution_count": 95,
   "metadata": {
    "scrolled": true
   },
   "outputs": [
    {
     "name": "stdout",
     "output_type": "stream",
     "text": [
      "01_test 0.83223 0.78619 0.78915 0.00296\n",
      "02_test 0.85543 0.80007 0.80344 0.00337\n",
      "03_test 0.81951 0.74049 0.75269 0.01219\n",
      "04_test 0.8334 0.76511 0.76979 0.00468\n",
      "05_test 0.81334 0.75002 0.75072 0.0007\n",
      "06_test 0.80849 0.73936 0.74357 0.00421\n",
      "07_test 0.82161 0.75154 0.76246 0.01092\n",
      "08_test 0.80135 0.73719 0.74044 0.00325\n",
      "09_test 0.81739 0.75994 0.7646 0.00466\n",
      "10_test 0.81523 0.75605 0.75931 0.00325\n",
      "11_test 0.80988 0.75477 0.75827 0.0035\n",
      "12_test 0.83383 0.78359 0.78354 -5e-05\n",
      "13_test 0.83016 0.76443 0.77428 0.00985\n",
      "14_test 0.83068 0.77496 0.77936 0.0044\n",
      "15_test 0.82056 0.76471 0.77491 0.01019\n",
      "16_test 0.83799 0.79869 0.79756 -0.00113\n",
      "17_test 0.80867 0.76014 0.75994 -0.00021\n",
      "18_test 0.81195 0.76938 0.76737 -0.00202\n",
      "19_test 0.85709 0.82393 0.8237 -0.00023\n",
      "20_test 0.81161 0.77711 0.76916 -0.00795\n"
     ]
    }
   ],
   "source": [
    "for file in os.listdir(CONF['Dirs']['image']):\n",
    "    \n",
    "    if 'training' in file:\n",
    "        continue\n",
    "    file = file.split('.')[0]\n",
    "    \n",
    "    image = Image()\n",
    "    image.load_file(CONF['Dirs']['image'], file+'.tif')\n",
    "    image.load_ground_truth(CONF['Dirs']['truth'], CONF['Funcs']['truth_getter'])\n",
    "    image.load_mask(CONF['Dirs']['mask'], CONF['Funcs']['mask_getter'])\n",
    "    \n",
    "    pred_file =  file + '.png'\n",
    "    image.u_1_1 = np.array(IMG.open(CONF['Dirs']['logs'] + sep + 'UNET_1_1' + sep + 'pred_'+pred_file))\n",
    "    image.u_1_100 = np.array(IMG.open(CONF['Dirs']['logs'] + sep + 'MAPNET_1_100_1' + sep + pred_file))\n",
    "    \n",
    "    image.u_1_1[image.u_1_1==255] = 1\n",
    "    image.u_1_100[image.u_1_100==255] = 1\n",
    "    image.ground_truth[image.ground_truth==255] = 1 \n",
    "    \n",
    "    f1 = f1_score(image.ground_truth.flatten(), image.u_1_100.flatten())\n",
    "    \n",
    "    gt = image.ground_truth.copy()\n",
    "    gt[gt==255] = 1\n",
    "    edt_gt = distance_transform_edt(gt)\n",
    "    \n",
    "    edt = edt_gt.copy()\n",
    "    edt[edt==0] = 1\n",
    "    edt = 1/edt\n",
    "    \n",
    "    f1_miniunet = f1_score(gt.flatten(), image.u_1_100.flatten(),\\\n",
    "         sample_weight=edt.flatten())\n",
    "    f1_plain = f1_score(gt.flatten(), image.u_1_1.flatten(),\\\n",
    "         sample_weight=edt.flatten())\n",
    "    print(file,  round(f1, 5), round(f1_plain, 5), round(f1_miniunet, 5), round(f1_miniunet-f1_plain, 5))"
   ]
  },
  {
   "cell_type": "code",
   "execution_count": 88,
   "metadata": {},
   "outputs": [
    {
     "ename": "TypeError",
     "evalue": "fromarray() got an unexpected keyword argument 'dtype'",
     "output_type": "error",
     "traceback": [
      "\u001b[1;31m---------------------------------------------------------------------------\u001b[0m",
      "\u001b[1;31mTypeError\u001b[0m                                 Traceback (most recent call last)",
      "\u001b[1;32m<ipython-input-88-51850baf675d>\u001b[0m in \u001b[0;36m<module>\u001b[1;34m\u001b[0m\n\u001b[1;32m----> 1\u001b[1;33m \u001b[0mIMG\u001b[0m\u001b[1;33m.\u001b[0m\u001b[0mfromarray\u001b[0m\u001b[1;33m(\u001b[0m\u001b[0medt\u001b[0m\u001b[1;33m/\u001b[0m\u001b[0mnp\u001b[0m\u001b[1;33m.\u001b[0m\u001b[0mmax\u001b[0m\u001b[1;33m(\u001b[0m\u001b[0medt\u001b[0m\u001b[1;33m)\u001b[0m \u001b[1;33m*\u001b[0m \u001b[1;36m255\u001b[0m\u001b[1;33m,\u001b[0m \u001b[0mdtype\u001b[0m\u001b[1;33m=\u001b[0m\u001b[0mnp\u001b[0m\u001b[1;33m.\u001b[0m\u001b[0muint8\u001b[0m\u001b[1;33m)\u001b[0m\u001b[1;33m\u001b[0m\u001b[1;33m\u001b[0m\u001b[0m\n\u001b[0m",
      "\u001b[1;31mTypeError\u001b[0m: fromarray() got an unexpected keyword argument 'dtype'"
     ]
    }
   ],
   "source": [
    "IMG.fromarray(edt/np.max(edt) * 255, dtype=np.uint8)"
   ]
  },
  {
   "cell_type": "code",
   "execution_count": 28,
   "metadata": {},
   "outputs": [
    {
     "name": "stdout",
     "output_type": "stream",
     "text": [
      "5 230\n",
      "40 225\n",
      "45 225\n",
      "35 225\n",
      "5 220\n",
      "45 200\n",
      "5 235\n",
      "45 240\n",
      "20 240\n",
      "40 235\n"
     ]
    }
   ],
   "source": [
    "for i in range(10):\n",
    "    rngea = np.arange(5, 50, 5)\n",
    "    rngeb = np.arange(200, 250, 5)\n",
    "    print(random.choice(rngea), random.choice(rngeb))"
   ]
  },
  {
   "cell_type": "code",
   "execution_count": 1,
   "metadata": {},
   "outputs": [],
   "source": [
    "from sklearn.mixture import GaussianMixture "
   ]
  },
  {
   "cell_type": "code",
   "execution_count": 8,
   "metadata": {},
   "outputs": [],
   "source": [
    "import random"
   ]
  },
  {
   "cell_type": "code",
   "execution_count": null,
   "metadata": {},
   "outputs": [],
   "source": []
  }
 ],
 "metadata": {
  "kernelspec": {
   "display_name": "Python 3",
   "language": "python",
   "name": "python3"
  },
  "language_info": {
   "codemirror_mode": {
    "name": "ipython",
    "version": 3
   },
   "file_extension": ".py",
   "mimetype": "text/x-python",
   "name": "python",
   "nbconvert_exporter": "python",
   "pygments_lexer": "ipython3",
   "version": "3.7.4"
  }
 },
 "nbformat": 4,
 "nbformat_minor": 2
}
