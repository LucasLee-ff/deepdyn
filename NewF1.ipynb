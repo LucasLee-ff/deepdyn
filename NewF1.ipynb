{
 "cells": [
  {
   "cell_type": "code",
   "execution_count": 1,
   "metadata": {},
   "outputs": [
    {
     "name": "stdout",
     "output_type": "stream",
     "text": [
      "Total Params: 31042434\n"
     ]
    }
   ],
   "source": [
    "import os\n",
    "import sys\n",
    "sep = os.sep\n",
    "import numpy as np\n",
    "from testarch.unet import runs as ru\n",
    "from testarch.unet import runs as rm\n",
    "import utils.auto_split as asp"
   ]
  },
  {
   "cell_type": "code",
   "execution_count": 2,
   "metadata": {},
   "outputs": [],
   "source": [
    "from PIL import Image as IMG\n",
    "from utils.img_utils import Image\n",
    "from sklearn.metrics import precision_recall_fscore_support\n",
    "from scipy.ndimage.morphology import distance_transform_edt"
   ]
  },
  {
   "cell_type": "code",
   "execution_count": null,
   "metadata": {},
   "outputs": [],
   "source": []
  },
  {
   "cell_type": "code",
   "execution_count": 3,
   "metadata": {},
   "outputs": [],
   "source": [
    "runs_unet = [\n",
    "    ru.DRIVE_1_100_1, ru.DRIVE_1_1, ru.DRIVE_WEIGHTED,\n",
    "    ru.STARE_1_100_1, ru.STARE_1_1, ru.STARE_WEIGHTED,\n",
    "    ru.WIDE_1_100_1, ru.WIDE_1_1, ru.WIDE_WEIGHTED,\n",
    "    ru.CHASEDB_1_100_1, ru.CHASEDB_1_1, ru.CHASEDB_WEIGHTED,\n",
    "    ru.VEVIO_MOSAICS_1_100_1, ru.VEVIO_MOSAICS_1_1, ru.VEVIO_MOSAICS_WEIGHTED,\n",
    "    ru.VEVIO_FRAMES_1_100_1, ru.VEVIO_FRAMES_1_1, ru.VEVIO_FRAMES_WEIGHTED]\n",
    "\n",
    "runs_miniunet = [\n",
    "    rm.DRIVE_1_100_1, rm.DRIVE_1_1, rm.DRIVE_WEIGHTED,\n",
    "    rm.STARE_1_100_1, rm.STARE_1_1, rm.STARE_WEIGHTED,\n",
    "    rm.WIDE_1_100_1, rm.WIDE_1_1, rm.WIDE_WEIGHTED,\n",
    "    rm.CHASEDB_1_100_1, rm.CHASEDB_1_1, rm.CHASEDB_WEIGHTED,\n",
    "    rm.VEVIO_MOSAICS_1_100_1, rm.VEVIO_MOSAICS_1_1, rm.VEVIO_MOSAICS_WEIGHTED,\n",
    "    rm.VEVIO_FRAMES_1_100_1, rm.VEVIO_FRAMES_1_1, rm.VEVIO_FRAMES_WEIGHTED]"
   ]
  },
  {
   "cell_type": "code",
   "execution_count": 4,
   "metadata": {},
   "outputs": [],
   "source": [
    "log_file = 'UNET_F1_WEIGHTED.csv'"
   ]
  },
  {
   "cell_type": "code",
   "execution_count": 5,
   "metadata": {},
   "outputs": [
    {
     "name": "stdout",
     "output_type": "stream",
     "text": [
      "### SPLIT FOUND:  data\\DRIVE\\splits\\UNET-DRIVE.json Loaded\n",
      "### SPLIT FOUND:  data\\DRIVE\\splits\\UNET-DRIVE.json Loaded\n",
      "### SPLIT FOUND:  data\\DRIVE\\splits\\UNET-DRIVE.json Loaded\n",
      "### SPLIT FOUND:  data\\STARE\\splits\\0UNET-STARE.json Loaded\n",
      "### SPLIT FOUND:  data\\STARE\\splits\\12UNET-STARE.json Loaded\n",
      "### SPLIT FOUND:  data\\STARE\\splits\\16UNET-STARE.json Loaded\n",
      "### SPLIT FOUND:  data\\STARE\\splits\\4UNET-STARE.json Loaded\n",
      "### SPLIT FOUND:  data\\STARE\\splits\\8UNET-STARE.json Loaded\n",
      "### SPLIT FOUND:  data\\STARE\\splits\\0UNET-STARE.json Loaded\n",
      "### SPLIT FOUND:  data\\STARE\\splits\\12UNET-STARE.json Loaded\n",
      "### SPLIT FOUND:  data\\STARE\\splits\\16UNET-STARE.json Loaded\n",
      "### SPLIT FOUND:  data\\STARE\\splits\\4UNET-STARE.json Loaded\n",
      "### SPLIT FOUND:  data\\STARE\\splits\\8UNET-STARE.json Loaded\n",
      "### SPLIT FOUND:  data\\STARE\\splits\\0UNET-STARE.json Loaded\n",
      "### SPLIT FOUND:  data\\STARE\\splits\\12UNET-STARE.json Loaded\n",
      "### SPLIT FOUND:  data\\STARE\\splits\\16UNET-STARE.json Loaded\n",
      "### SPLIT FOUND:  data\\STARE\\splits\\4UNET-STARE.json Loaded\n",
      "### SPLIT FOUND:  data\\STARE\\splits\\8UNET-STARE.json Loaded\n",
      "### SPLIT FOUND:  data\\AV-WIDE\\splits\\0UNET-WIDE.json Loaded\n",
      "### SPLIT FOUND:  data\\AV-WIDE\\splits\\10UNET-WIDE.json Loaded\n",
      "### SPLIT FOUND:  data\\AV-WIDE\\splits\\15UNET-WIDE.json Loaded\n",
      "### SPLIT FOUND:  data\\AV-WIDE\\splits\\20UNET-WIDE.json Loaded\n",
      "### SPLIT FOUND:  data\\AV-WIDE\\splits\\25UNET-WIDE.json Loaded\n",
      "### SPLIT FOUND:  data\\AV-WIDE\\splits\\5UNET-WIDE.json Loaded\n",
      "### SPLIT FOUND:  data\\AV-WIDE\\splits\\0UNET-WIDE.json Loaded\n",
      "### SPLIT FOUND:  data\\AV-WIDE\\splits\\10UNET-WIDE.json Loaded\n",
      "### SPLIT FOUND:  data\\AV-WIDE\\splits\\15UNET-WIDE.json Loaded\n",
      "### SPLIT FOUND:  data\\AV-WIDE\\splits\\20UNET-WIDE.json Loaded\n",
      "### SPLIT FOUND:  data\\AV-WIDE\\splits\\25UNET-WIDE.json Loaded\n",
      "### SPLIT FOUND:  data\\AV-WIDE\\splits\\5UNET-WIDE.json Loaded\n",
      "### SPLIT FOUND:  data\\AV-WIDE\\splits\\0UNET-WIDE.json Loaded\n",
      "### SPLIT FOUND:  data\\AV-WIDE\\splits\\10UNET-WIDE.json Loaded\n",
      "### SPLIT FOUND:  data\\AV-WIDE\\splits\\15UNET-WIDE.json Loaded\n",
      "### SPLIT FOUND:  data\\AV-WIDE\\splits\\20UNET-WIDE.json Loaded\n",
      "### SPLIT FOUND:  data\\AV-WIDE\\splits\\25UNET-WIDE.json Loaded\n",
      "### SPLIT FOUND:  data\\AV-WIDE\\splits\\5UNET-WIDE.json Loaded\n",
      "### SPLIT FOUND:  data\\CHASEDB\\splits\\0UNET-CHASEDB.json Loaded\n",
      "### SPLIT FOUND:  data\\CHASEDB\\splits\\10UNET-CHASEDB.json Loaded\n",
      "### SPLIT FOUND:  data\\CHASEDB\\splits\\15UNET-CHASEDB.json Loaded\n",
      "### SPLIT FOUND:  data\\CHASEDB\\splits\\20UNET-CHASEDB.json Loaded\n",
      "### SPLIT FOUND:  data\\CHASEDB\\splits\\5UNET-CHASEDB.json Loaded\n",
      "### SPLIT FOUND:  data\\CHASEDB\\splits\\0UNET-CHASEDB.json Loaded\n",
      "### SPLIT FOUND:  data\\CHASEDB\\splits\\10UNET-CHASEDB.json Loaded\n",
      "### SPLIT FOUND:  data\\CHASEDB\\splits\\15UNET-CHASEDB.json Loaded\n",
      "### SPLIT FOUND:  data\\CHASEDB\\splits\\20UNET-CHASEDB.json Loaded\n",
      "### SPLIT FOUND:  data\\CHASEDB\\splits\\5UNET-CHASEDB.json Loaded\n",
      "### SPLIT FOUND:  data\\CHASEDB\\splits\\0UNET-CHASEDB.json Loaded\n",
      "### SPLIT FOUND:  data\\CHASEDB\\splits\\10UNET-CHASEDB.json Loaded\n",
      "### SPLIT FOUND:  data\\CHASEDB\\splits\\15UNET-CHASEDB.json Loaded\n",
      "### SPLIT FOUND:  data\\CHASEDB\\splits\\20UNET-CHASEDB.json Loaded\n",
      "### SPLIT FOUND:  data\\CHASEDB\\splits\\5UNET-CHASEDB.json Loaded\n",
      "### SPLIT FOUND:  data\\VEVIO\\splits_mosaics\\0UNET-VEVIO.json Loaded\n",
      "### SPLIT FOUND:  data\\VEVIO\\splits_mosaics\\12UNET-VEVIO.json Loaded\n",
      "### SPLIT FOUND:  data\\VEVIO\\splits_mosaics\\4UNET-VEVIO.json Loaded\n",
      "### SPLIT FOUND:  data\\VEVIO\\splits_mosaics\\8UNET-VEVIO.json Loaded\n",
      "### SPLIT FOUND:  data\\VEVIO\\splits_mosaics\\0UNET-VEVIO.json Loaded\n",
      "### SPLIT FOUND:  data\\VEVIO\\splits_mosaics\\12UNET-VEVIO.json Loaded\n",
      "### SPLIT FOUND:  data\\VEVIO\\splits_mosaics\\4UNET-VEVIO.json Loaded\n",
      "### SPLIT FOUND:  data\\VEVIO\\splits_mosaics\\8UNET-VEVIO.json Loaded\n",
      "### SPLIT FOUND:  data\\VEVIO\\splits_mosaics\\0UNET-VEVIO.json Loaded\n",
      "### SPLIT FOUND:  data\\VEVIO\\splits_mosaics\\12UNET-VEVIO.json Loaded\n",
      "### SPLIT FOUND:  data\\VEVIO\\splits_mosaics\\4UNET-VEVIO.json Loaded\n",
      "### SPLIT FOUND:  data\\VEVIO\\splits_mosaics\\8UNET-VEVIO.json Loaded\n",
      "### SPLIT FOUND:  data\\VEVIO\\splits_frames\\0UNET-VEVIO.json Loaded\n",
      "### SPLIT FOUND:  data\\VEVIO\\splits_frames\\12UNET-VEVIO.json Loaded\n",
      "### SPLIT FOUND:  data\\VEVIO\\splits_frames\\4UNET-VEVIO.json Loaded\n",
      "### SPLIT FOUND:  data\\VEVIO\\splits_frames\\8UNET-VEVIO.json Loaded\n",
      "### SPLIT FOUND:  data\\VEVIO\\splits_frames\\0UNET-VEVIO.json Loaded\n",
      "### SPLIT FOUND:  data\\VEVIO\\splits_frames\\12UNET-VEVIO.json Loaded\n",
      "### SPLIT FOUND:  data\\VEVIO\\splits_frames\\4UNET-VEVIO.json Loaded\n",
      "### SPLIT FOUND:  data\\VEVIO\\splits_frames\\8UNET-VEVIO.json Loaded\n",
      "### SPLIT FOUND:  data\\VEVIO\\splits_frames\\0UNET-VEVIO.json Loaded\n",
      "### SPLIT FOUND:  data\\VEVIO\\splits_frames\\12UNET-VEVIO.json Loaded\n",
      "### SPLIT FOUND:  data\\VEVIO\\splits_frames\\4UNET-VEVIO.json Loaded\n",
      "### SPLIT FOUND:  data\\VEVIO\\splits_frames\\8UNET-VEVIO.json Loaded\n"
     ]
    }
   ],
   "source": [
    "with open(log_file, 'w+') as log:\n",
    "    log.write('DATASET,EXPERIMENT,PREC_AVG,RECALL_AVG,F1')\n",
    "    for d in runs_unet:\n",
    "        dset = d['Dirs']['logs'].split(os.sep)[1]\n",
    "        exp = d['Dirs']['logs'].split(os.sep)[-1]\n",
    "        results = {'p':[],'r':[], 'f1':[]}\n",
    "\n",
    "        test_files = []\n",
    "        for split_file in os.listdir(d['Dirs']['splits_json']):\n",
    "            test_files += asp.load_split_json(d['Dirs']['splits_json']+sep+split_file)['test']\n",
    "\n",
    "        for file in test_files:\n",
    "            image = Image()\n",
    "            image.load_file(d['Dirs']['image'], file)\n",
    "            image.load_ground_truth(d['Dirs']['truth'], d['Funcs']['truth_getter'])\n",
    "\n",
    "            if d['Dirs'].get('mask'):\n",
    "                image.load_mask(d['Dirs']['mask'], d['Funcs']['mask_getter'])\n",
    "\n",
    "            pred_file =  'pred_' + file.split('.')[0] + '.png'\n",
    "            image.pred = np.array(IMG.open(d['Dirs']['logs'] + sep + pred_file))\n",
    "\n",
    "            image.pred[image.pred==255] = 1\n",
    "\n",
    "            gt = image.ground_truth.copy()\n",
    "            gt[gt==255] = 1\n",
    "            edt_gt = distance_transform_edt(gt)\n",
    "\n",
    "            edt = edt_gt.copy()\n",
    "            edt[edt==0] = 1\n",
    "            edt = 1/edt\n",
    "\n",
    "            p, r, f1, _ = precision_recall_fscore_support(gt.flatten(), image.pred.flatten(),\\\n",
    "                 sample_weight=edt.flatten(), average='binary')\n",
    "            results['p'].append(p)\n",
    "            results['r'].append(r)\n",
    "            results['f1'].append(f1)\n",
    "        p_avg = np.array(results['p']).mean()\n",
    "        r_avg = np.array(results['r']).mean()\n",
    "        f1 =  (2 * p_avg * r_avg) / (p_avg + r_avg)\n",
    "        line = '{},{},{},{},{}'.format(dset, exp, round(p_avg, 5), round(r_avg, 5), round(f1, 5))\n",
    "        log.write('\\n'+line)\n",
    "        log.flush()"
   ]
  },
  {
   "cell_type": "code",
   "execution_count": null,
   "metadata": {},
   "outputs": [],
   "source": []
  },
  {
   "cell_type": "code",
   "execution_count": 6,
   "metadata": {},
   "outputs": [
    {
     "ename": "NameError",
     "evalue": "name 're' is not defined",
     "output_type": "error",
     "traceback": [
      "\u001b[1;31m---------------------------------------------------------------------------\u001b[0m",
      "\u001b[1;31mNameError\u001b[0m                                 Traceback (most recent call last)",
      "\u001b[1;32m<ipython-input-6-b80d3ea14515>\u001b[0m in \u001b[0;36m<module>\u001b[1;34m\u001b[0m\n\u001b[1;32m----> 1\u001b[1;33m \u001b[0mre\u001b[0m\u001b[1;33m\u001b[0m\u001b[1;33m\u001b[0m\u001b[0m\n\u001b[0m",
      "\u001b[1;31mNameError\u001b[0m: name 're' is not defined"
     ]
    }
   ],
   "source": [
    "re"
   ]
  }
 ],
 "metadata": {
  "kernelspec": {
   "display_name": "Python 3",
   "language": "python",
   "name": "python3"
  },
  "language_info": {
   "codemirror_mode": {
    "name": "ipython",
    "version": 3
   },
   "file_extension": ".py",
   "mimetype": "text/x-python",
   "name": "python",
   "nbconvert_exporter": "python",
   "pygments_lexer": "ipython3",
   "version": "3.7.4"
  }
 },
 "nbformat": 4,
 "nbformat_minor": 2
}
