{
 "cells": [
  {
   "cell_type": "code",
   "execution_count": 18,
   "metadata": {},
   "outputs": [],
   "source": [
    "import os\n",
    "sep = os.sep\n",
    "import numpy as np\n",
    "from testarch.unet import runs as ru\n",
    "from testarch.unet import runs as rm\n",
    "import utils.auto_split as asp"
   ]
  },
  {
   "cell_type": "code",
   "execution_count": 16,
   "metadata": {},
   "outputs": [],
   "source": [
    "from PIL import Image as IMG\n",
    "from utils.img_utils import Image\n",
    "from sklearn.metrics import f1_score\n",
    "from scipy.ndimage.morphology import distance_transform_edt"
   ]
  },
  {
   "cell_type": "code",
   "execution_count": 19,
   "metadata": {},
   "outputs": [],
   "source": [
    "unet_drive = [ru.DRIVE_1_100_1, ru.DRIVE_1_1, ru.DRIVE_WEIGHTED]\n",
    "unet_stare = [ru.STARE_1_100_1, ru.STARE_1_1, ru.STARE_WEIGHTED]\n",
    "unet_wide = [ru.WIDE_1_100_1, ru.WIDE_1_1, ru.WIDE_WEIGHTED]\n",
    "unet_chasedb = [ru.CHASEDB_1_100_1, ru.CHASEDB_1_1, ru.CHASEDB_WEIGHTED]\n",
    "unet_vevio_mosacis = [ru.VEVIO_MOSAICS_1_100_1, ru.VEVIO_MOSAICS_1_1, ru.VEVIO_MOSAICS_WEIGHTED]\n",
    "unet_vevio_frames = [ru.VEVIO_FRAMES_1_100_1, ru.VEVIO_FRAMES_1_1, ru.VEVIO_FRAMES_WEIGHTED]\n",
    "\n",
    "munet_drive = [rm.DRIVE_1_100_1, rm.DRIVE_1_1, rm.DRIVE_WEIGHTED]\n",
    "munet_stare = [rm.STARE_1_100_1, rm.STARE_1_1, rm.STARE_WEIGHTED]\n",
    "munet_wide = [rm.WIDE_1_100_1, rm.WIDE_1_1, rm.WIDE_WEIGHTED]\n",
    "munet_chasedb = [rm.CHASEDB_1_100_1, rm.CHASEDB_1_1, rm.CHASEDB_WEIGHTED]\n",
    "munet_vevio_mosaics = [rm.VEVIO_MOSAICS_1_100_1, rm.VEVIO_MOSAICS_1_1, rm.VEVIO_MOSAICS_WEIGHTED]\n",
    "munet_vevio_frames =[rm.VEVIO_FRAMES_1_100_1, rm.VEVIO_FRAMES_1_1, rm.VEVIO_FRAMES_WEIGHTED]"
   ]
  },
  {
   "cell_type": "code",
   "execution_count": 54,
   "metadata": {},
   "outputs": [],
   "source": [
    "datasets = [unet_drive, unet_stare, unet_wide, unet_chasedb, unet_vevio_mosacis, unet_vevio_frames]"
   ]
  },
  {
   "cell_type": "code",
   "execution_count": null,
   "metadata": {
    "scrolled": false
   },
   "outputs": [
    {
     "name": "stdout",
     "output_type": "stream",
     "text": [
      "========================================================\n",
      "### SPLIT FOUND:  data\\DRIVE\\splits\\UNET-DRIVE.json Loaded\n",
      "DATASET  FILE    F1_100_1 F1_1_1 F1_WEIGHTED DIFF\n",
      "--------------------------------------------------------\n",
      "DRIVE 11_test.tif 0.75918 0.76592 0.74055 -0.00673\n",
      "DRIVE 02_test.tif 0.8026 0.80034 0.78034 0.00226\n",
      "DRIVE 15_test.tif 0.77177 0.76431 0.74729 0.00746\n",
      "DRIVE 04_test.tif 0.77292 0.75983 0.75506 0.01309\n",
      "DRIVE 20_test.tif 0.76748 0.77743 0.74044 -0.00995\n",
      "DRIVE 01_test.tif 0.78303 0.79508 0.76395 -0.01204\n",
      "DRIVE 19_test.tif 0.82024 0.83999 0.79424 -0.01975\n",
      "DRIVE 08_test.tif 0.74354 0.73432 0.73032 0.00923\n",
      "DRIVE 06_test.tif 0.74961 0.73165 0.73478 0.01796\n",
      "DRIVE 18_test.tif 0.76602 0.77766 0.74713 -0.01165\n",
      "DRIVE 14_test.tif 0.77621 0.77826 0.75487 -0.00206\n",
      "DRIVE 03_test.tif 0.74088 0.72923 0.72442 0.01165\n",
      "DRIVE 07_test.tif 0.76447 0.75824 0.75126 0.00623\n",
      "DRIVE 09_test.tif 0.76779 0.75767 0.74253 0.01013\n",
      "DRIVE 12_test.tif 0.78078 0.78223 0.76004 -0.00145\n",
      "DRIVE 16_test.tif 0.80232 0.79854 0.77692 0.00378\n",
      "DRIVE 05_test.tif 0.75486 0.74023 0.73651 0.01463\n",
      "DRIVE 10_test.tif 0.75322 0.75297 0.73766 0.00025\n",
      "DRIVE 17_test.tif 0.76937 0.76708 0.75025 0.00229\n",
      "DRIVE 13_test.tif 0.77097 0.76454 0.75198 0.00643\n",
      "========================================================\n",
      "### SPLIT FOUND:  data\\STARE\\splits\\0UNET-STARE.json Loaded\n",
      "### SPLIT FOUND:  data\\STARE\\splits\\12UNET-STARE.json Loaded\n",
      "### SPLIT FOUND:  data\\STARE\\splits\\16UNET-STARE.json Loaded\n",
      "### SPLIT FOUND:  data\\STARE\\splits\\4UNET-STARE.json Loaded\n",
      "### SPLIT FOUND:  data\\STARE\\splits\\8UNET-STARE.json Loaded\n",
      "DATASET  FILE    F1_100_1 F1_1_1 F1_WEIGHTED DIFF\n",
      "--------------------------------------------------------\n",
      "STARE im0319.ppm 0.75952 0.7521 0.74091 0.00741\n",
      "STARE im0081.ppm 0.82974 0.81674 0.79141 0.013\n",
      "STARE im0162.ppm 0.83465 0.83414 0.81858 0.00052\n",
      "STARE im0005.ppm 0.70138 0.71161 0.69261 -0.01023\n",
      "STARE im0001.ppm 0.77684 0.75868 0.76589 0.01817\n",
      "STARE im0255.ppm 0.81224 0.78739 0.80898 0.02485\n",
      "STARE im0003.ppm 0.79086 0.77183 0.7706 0.01902\n",
      "STARE im0082.ppm 0.83971 0.8465 0.80655 -0.0068\n",
      "STARE im0239.ppm 0.81262 0.80165 0.80512 0.01097\n",
      "STARE im0291.ppm 0.80819 0.77916 0.79144 0.02902\n",
      "STARE im0002.ppm 0.77758 0.76047 0.76781 0.01711\n",
      "STARE im0004.ppm 0.63711 0.60379 0.65444 0.03332\n",
      "STARE im0235.ppm 0.82817 0.82137 0.82419 0.0068\n",
      "STARE im0044.ppm 0.7873 0.78313 0.77349 0.00418\n",
      "STARE im0077.ppm 0.8173 0.82065 0.79817 -0.00335\n",
      "STARE im0324.ppm 0.70301 0.68877 0.69388 0.01424\n",
      "STARE im0163.ppm 0.82633 0.84352 0.80578 -0.01719\n",
      "STARE im0236.ppm 0.83546 0.81801 0.81643 0.01745\n",
      "STARE im0139.ppm 0.7971 0.80039 0.76621 -0.00329\n",
      "STARE im0240.ppm 0.7556 0.75728 0.77173 -0.00168\n",
      "========================================================\n",
      "### SPLIT FOUND:  data\\AV-WIDE\\splits\\0UNET-WIDE.json Loaded\n",
      "### SPLIT FOUND:  data\\AV-WIDE\\splits\\10UNET-WIDE.json Loaded\n",
      "### SPLIT FOUND:  data\\AV-WIDE\\splits\\15UNET-WIDE.json Loaded\n",
      "### SPLIT FOUND:  data\\AV-WIDE\\splits\\20UNET-WIDE.json Loaded\n",
      "### SPLIT FOUND:  data\\AV-WIDE\\splits\\25UNET-WIDE.json Loaded\n",
      "### SPLIT FOUND:  data\\AV-WIDE\\splits\\5UNET-WIDE.json Loaded\n",
      "DATASET  FILE    F1_100_1 F1_1_1 F1_WEIGHTED DIFF\n",
      "--------------------------------------------------------\n",
      "AV-WIDE wide_image_03.png 0.75282 0.75226 0.73208 0.00056\n",
      "AV-WIDE wide_image_24.png 0.71329 0.71602 0.69581 -0.00274\n",
      "AV-WIDE wide_image_28.png 0.77356 0.77574 0.75095 -0.00218\n",
      "AV-WIDE wide_image_16.png 0.77594 0.77248 0.75211 0.00346\n",
      "AV-WIDE wide_image_09.png 0.73361 0.72993 0.70925 0.00368\n",
      "AV-WIDE wide_image_12.png 0.78672 0.79212 0.76308 -0.00541\n",
      "AV-WIDE wide_image_30.png 0.79344 0.79253 0.77856 0.00091\n",
      "AV-WIDE wide_image_17.png 0.75772 0.75511 0.72827 0.00261\n",
      "AV-WIDE wide_image_04.png 0.73802 0.7177 0.71084 0.02032\n",
      "AV-WIDE wide_image_18.png 0.75201 0.74315 0.72468 0.00887\n",
      "AV-WIDE wide_image_15.png 0.78837 0.78574 0.76996 0.00262\n"
     ]
    }
   ],
   "source": [
    "for d100, d11, dw in datasets:\n",
    "    print('========================================================')\n",
    "    test_files = []\n",
    "    for split_file in os.listdir(d100['Dirs']['splits_json']):\n",
    "        test_files += asp.load_split_json(d100['Dirs']['splits_json']+sep+split_file)['test']\n",
    "    print('DATASET  FILE    F1_100_1 F1_1_1 F1_WEIGHTED DIFF')\n",
    "    print('--------------------------------------------------------')\n",
    "    for file in test_files:\n",
    "        image = Image()\n",
    "        image.load_file(d100['Dirs']['image'], file)\n",
    "        image.load_ground_truth(d100['Dirs']['truth'], d100['Funcs']['truth_getter'])\n",
    "        \n",
    "        if d100['Dirs'].get('mask'):\n",
    "            image.load_mask(d100['Dirs']['mask'], d100['Funcs']['mask_getter'])\n",
    "\n",
    "        pred_file =  'pred_' + file.split('.')[0] + '.png'\n",
    "        image.u_1_100 = np.array(IMG.open(d100['Dirs']['logs'] + sep + pred_file))\n",
    "        image.u_1_1 = np.array(IMG.open(d11['Dirs']['logs'] + sep + pred_file))\n",
    "        image.uw = np.array(IMG.open(dw['Dirs']['logs'] + sep + pred_file))\n",
    "        \n",
    "        image.u_1_100[image.u_1_100==255] = 1\n",
    "        image.u_1_1[image.u_1_1==255] = 1\n",
    "        image.uw[image.uw==255] = 1\n",
    "        \n",
    "        gt = image.ground_truth.copy()\n",
    "        gt[gt==255] = 1\n",
    "        edt_gt = distance_transform_edt(gt)\n",
    "\n",
    "        edt = edt_gt.copy()\n",
    "        edt[edt==0] = 1\n",
    "        edt = 1/edt\n",
    "\n",
    "        f1_u100 = f1_score(gt.flatten(), image.u_1_100.flatten(),\\\n",
    "             sample_weight=edt.flatten())\n",
    "        f1_u1 = f1_score(gt.flatten(), image.u_1_1.flatten(),\\\n",
    "             sample_weight=edt.flatten())\n",
    "        \n",
    "        f1_uw = f1_score(gt.flatten(), image.uw.flatten(),\\\n",
    "             sample_weight=edt.flatten())\n",
    "        print(d100['Dirs']['image'].split('\\\\')[1], file, round(f1_u100, 5), round(f1_u1, 5), round(f1_uw, 5), round(f1_u100-f1_u1, 5))"
   ]
  },
  {
   "cell_type": "code",
   "execution_count": null,
   "metadata": {},
   "outputs": [],
   "source": []
  }
 ],
 "metadata": {
  "kernelspec": {
   "display_name": "Python 3",
   "language": "python",
   "name": "python3"
  },
  "language_info": {
   "codemirror_mode": {
    "name": "ipython",
    "version": 3
   },
   "file_extension": ".py",
   "mimetype": "text/x-python",
   "name": "python",
   "nbconvert_exporter": "python",
   "pygments_lexer": "ipython3",
   "version": "3.7.4"
  }
 },
 "nbformat": 4,
 "nbformat_minor": 2
}
