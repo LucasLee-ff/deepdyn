{
 "cells": [
  {
   "cell_type": "markdown",
   "metadata": {},
   "source": [
    "### Initialize notebook"
   ]
  },
  {
   "cell_type": "code",
   "execution_count": 1,
   "metadata": {},
   "outputs": [],
   "source": [
    "import math\n",
    "import os\n",
    "\n",
    "os.chdir('/home/ak/PycharmProjects/ature/')\n",
    "import random\n",
    "from random import shuffle\n",
    "\n",
    "import numpy as np\n",
    "from scipy.ndimage.measurements import label\n",
    "from skimage.morphology import skeletonize\n",
    "\n",
    "import utils.img_utils as imgutils\n",
    "from commons.IMAGE import Image\n",
    "from neuralnet.datagen import Generator\n",
    "from neuralnet.utils.measurements import get_best_thr\n",
    "import cv2\n",
    "from PIL import Image as IMG\n",
    "\n",
    "sep = os.sep"
   ]
  },
  {
   "cell_type": "code",
   "execution_count": null,
   "metadata": {},
   "outputs": [],
   "source": [
    "from neuralnet.unet.runs import DRIVE as DU\n",
    "from neuralnet.thrnet.runs import DRIVE as DT"
   ]
  },
  {
   "cell_type": "code",
   "execution_count": null,
   "metadata": {},
   "outputs": [],
   "source": []
  },
  {
   "cell_type": "code",
   "execution_count": null,
   "metadata": {},
   "outputs": [],
   "source": []
  },
  {
   "cell_type": "code",
   "execution_count": null,
   "metadata": {
    "scrolled": false
   },
   "outputs": [],
   "source": [
    "num = 400\n",
    "import matplotlib.pyplot as plt\n",
    "plt.switch_backend('agg')\n",
    "path = 'data/DRIVE_UNET_MAP/patches_csv'\n",
    "for f in os.listdir(path):\n",
    "    # file = '18_test'\n",
    "    file = f.split('_')[0] + '_' + f.split('_')[1]\n",
    "    image = Image()\n",
    "    image.load_file(data_dir=DT['Dirs']['image'], file_name= file +'.png')\n",
    "    image.load_ground_truth(gt_dir=DT['Dirs']['truth'], fget_ground_truth=DT['Funcs']['truth_getter'])\n",
    "    image.working_arr = imgutils.get_image_as_array(DU['Dirs']['image'] + '/' + file + '.tif')[:,:,1]\n",
    "    image.apply_clahe()\n",
    "    patches = np.loadtxt( path + '/' + f, delimiter=',')\n",
    "    plt.rcParams[\"figure.figsize\"] = (4,700)\n",
    "    f, axarr = plt.subplots(num,3)\n",
    "    for i in range(num):\n",
    "        y, x, diff, a, b, c, d = patches[i]\n",
    "        a, b, c, d = int(a), int(b), int(c), int(d)\n",
    "        cl = 'black'\n",
    "        if abs(diff) > 20:\n",
    "            cl = 'red'\n",
    "        elif abs(diff)  <= 5:\n",
    "            cl = 'green'\n",
    "\n",
    "        axarr[i, 0].imshow(image.working_arr[a:b,c:d], cmap='gray')\n",
    "        axarr[i, 0].set_title('dff:' + str(diff), color=cl)\n",
    "        axarr[i, 0].set_yticklabels([])\n",
    "        axarr[i, 0].set_xticklabels([])\n",
    "\n",
    "        axarr[i, 1].imshow(image.image_arr[a:b,c:d], cmap='gray')\n",
    "        axarr[i, 1].set_title('prd:' + str(x), color=cl)\n",
    "        axarr[i, 1].set_yticklabels([])\n",
    "        axarr[i, 1].set_xticklabels([])\n",
    "\n",
    "        axarr[i, 2].imshow(image.ground_truth[a:b,c:d], cmap='gray')\n",
    "        axarr[i, 2].set_title('gt:' + str(y), color=cl)\n",
    "        axarr[i, 2].set_yticklabels([])\n",
    "        axarr[i, 2].set_xticklabels([])\n",
    "    plt.savefig(path + '/' + file + '_inspect_patch.png')\n",
    "    plt.close('all')"
   ]
  },
  {
   "cell_type": "code",
   "execution_count": 181,
   "metadata": {},
   "outputs": [
    {
     "data": {
      "text/plain": [
       "'/home/ak/PycharmProjects/ature'"
      ]
     },
     "execution_count": 181,
     "metadata": {},
     "output_type": "execute_result"
    }
   ],
   "source": [
    "os.getcwd()"
   ]
  },
  {
   "cell_type": "code",
   "execution_count": 1,
   "metadata": {},
   "outputs": [],
   "source": [
    "import numpy as np"
   ]
  },
  {
   "cell_type": "code",
   "execution_count": 2,
   "metadata": {},
   "outputs": [],
   "source": [
    "a = np.array([1,3,4,5])"
   ]
  },
  {
   "cell_type": "code",
   "execution_count": 3,
   "metadata": {},
   "outputs": [
    {
     "data": {
      "text/plain": [
       "(4,)"
      ]
     },
     "execution_count": 3,
     "metadata": {},
     "output_type": "execute_result"
    }
   ],
   "source": [
    "a.shape"
   ]
  },
  {
   "cell_type": "code",
   "execution_count": 6,
   "metadata": {},
   "outputs": [
    {
     "data": {
      "text/plain": [
       "(4, 2)"
      ]
     },
     "execution_count": 6,
     "metadata": {},
     "output_type": "execute_result"
    }
   ],
   "source": [
    "np.column_stack((a, a))."
   ]
  },
  {
   "cell_type": "code",
   "execution_count": 7,
   "metadata": {},
   "outputs": [],
   "source": [
    "import torch"
   ]
  },
  {
   "cell_type": "code",
   "execution_count": 35,
   "metadata": {},
   "outputs": [],
   "source": [
    "a= torch.rand(16)[...,None]\n",
    "b = torch.rand(16)[...,None]"
   ]
  },
  {
   "cell_type": "code",
   "execution_count": 38,
   "metadata": {},
   "outputs": [
    {
     "data": {
      "text/plain": [
       "torch.Size([16, 2])"
      ]
     },
     "execution_count": 38,
     "metadata": {},
     "output_type": "execute_result"
    }
   ],
   "source": [
    "torch.cat([a,b], 1).shape"
   ]
  },
  {
   "cell_type": "code",
   "execution_count": 28,
   "metadata": {},
   "outputs": [],
   "source": [
    "a= torch.rand(2,16)"
   ]
  },
  {
   "cell_type": "code",
   "execution_count": 29,
   "metadata": {},
   "outputs": [
    {
     "data": {
      "text/plain": [
       "tensor([[ 0.3895,  0.7682,  0.7772,  0.4112,  0.8328,  0.4585,  0.9245,\n",
       "          0.7649,  0.7351,  0.5081,  0.9065,  0.2403,  0.7497,  0.4233,\n",
       "          0.7640,  0.2299],\n",
       "        [ 0.2578,  0.3171,  0.2166,  0.1274,  0.3127,  0.8134,  0.6042,\n",
       "          0.1520,  0.7291,  0.0247,  0.1245,  0.3738,  0.1524,  0.3108,\n",
       "          0.6467,  0.8291]])"
      ]
     },
     "execution_count": 29,
     "metadata": {},
     "output_type": "execute_result"
    }
   ],
   "source": [
    "a"
   ]
  },
  {
   "cell_type": "code",
   "execution_count": 41,
   "metadata": {},
   "outputs": [],
   "source": [
    "a = np.array([1,2])"
   ]
  },
  {
   "cell_type": "code",
   "execution_count": 43,
   "metadata": {},
   "outputs": [
    {
     "data": {
      "text/plain": [
       "(2, 1)"
      ]
     },
     "execution_count": 43,
     "metadata": {},
     "output_type": "execute_result"
    }
   ],
   "source": [
    "a[..., None].shape"
   ]
  },
  {
   "cell_type": "code",
   "execution_count": 85,
   "metadata": {},
   "outputs": [],
   "source": [
    "d = np.arctan2([1,0], [0, 0])"
   ]
  },
  {
   "cell_type": "code",
   "execution_count": 86,
   "metadata": {},
   "outputs": [
    {
     "data": {
      "text/plain": [
       "array([1.57079633, 0.        ])"
      ]
     },
     "execution_count": 86,
     "metadata": {},
     "output_type": "execute_result"
    }
   ],
   "source": [
    "d"
   ]
  },
  {
   "cell_type": "code",
   "execution_count": 48,
   "metadata": {},
   "outputs": [],
   "source": [
    "f = np.atan2(45, 30)"
   ]
  },
  {
   "cell_type": "code",
   "execution_count": 49,
   "metadata": {},
   "outputs": [
    {
     "data": {
      "text/plain": [
       "0.982793723247329"
      ]
     },
     "execution_count": 49,
     "metadata": {},
     "output_type": "execute_result"
    }
   ],
   "source": [
    "f"
   ]
  },
  {
   "cell_type": "code",
   "execution_count": 88,
   "metadata": {},
   "outputs": [],
   "source": [
    "import math"
   ]
  },
  {
   "cell_type": "code",
   "execution_count": 126,
   "metadata": {},
   "outputs": [
    {
     "data": {
      "text/plain": [
       "2.356194490192345"
      ]
     },
     "execution_count": 126,
     "metadata": {},
     "output_type": "execute_result"
    }
   ],
   "source": [
    "math.atan2(1, -1)"
   ]
  },
  {
   "cell_type": "code",
   "execution_count": null,
   "metadata": {},
   "outputs": [],
   "source": []
  },
  {
   "cell_type": "code",
   "execution_count": null,
   "metadata": {},
   "outputs": [],
   "source": []
  }
 ],
 "metadata": {
  "kernelspec": {
   "display_name": "Python 3",
   "language": "python",
   "name": "python3"
  },
  "language_info": {
   "codemirror_mode": {
    "name": "ipython",
    "version": 3
   },
   "file_extension": ".py",
   "mimetype": "text/x-python",
   "name": "python",
   "nbconvert_exporter": "python",
   "pygments_lexer": "ipython3",
   "version": "3.6.4"
  }
 },
 "nbformat": 4,
 "nbformat_minor": 2
}
